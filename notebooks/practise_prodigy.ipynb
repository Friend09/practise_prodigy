{
 "cells": [
  {
   "cell_type": "markdown",
   "metadata": {},
   "source": [
    "# PRODIGY PRACTISE"
   ]
  },
  {
   "cell_type": "markdown",
   "metadata": {},
   "source": [
    "## USING SPACY_LLM"
   ]
  },
  {
   "cell_type": "code",
   "execution_count": 20,
   "metadata": {},
   "outputs": [],
   "source": [
    "from spacy_llm.util import assemble\n",
    "from dotenv import load_dotenv"
   ]
  },
  {
   "cell_type": "code",
   "execution_count": 21,
   "metadata": {},
   "outputs": [
    {
     "data": {
      "text/plain": [
       "True"
      ]
     },
     "execution_count": 21,
     "metadata": {},
     "output_type": "execute_result"
    }
   ],
   "source": [
    "# load the env variables\n",
    "load_dotenv()"
   ]
  },
  {
   "cell_type": "code",
   "execution_count": 22,
   "metadata": {},
   "outputs": [],
   "source": [
    "# assemble a spacy pipeline from the config\n",
    "nlp = assemble(config_path=\"../dev/_config/prodigy_config_ner.cfg\")"
   ]
  },
  {
   "cell_type": "code",
   "execution_count": 23,
   "metadata": {},
   "outputs": [
    {
     "name": "stdout",
     "output_type": "stream",
     "text": [
      "(pizza,)\n"
     ]
    }
   ],
   "source": [
    "# use the pipeline to perform the task\n",
    "doc = nlp(\"I know of a great pizza recipe with anchovis.\")\n",
    "\n",
    "print(doc.ents)"
   ]
  },
  {
   "cell_type": "markdown",
   "metadata": {},
   "source": [
    "## USING CLI"
   ]
  },
  {
   "cell_type": "markdown",
   "metadata": {},
   "source": [
    "`dotenv run -- spacy assemble dev/_config/prodigy_config_ner.cfg en_cooking_ner`\n",
    "\n",
    "- the above command will create a folder for en_ner_cooking\n",
    "- now use this folder to perform ner cooking\n",
    "- once loaded, we can then customize it for our usecase"
   ]
  },
  {
   "cell_type": "code",
   "execution_count": 27,
   "metadata": {},
   "outputs": [
    {
     "data": {
      "text/plain": [
       "True"
      ]
     },
     "execution_count": 27,
     "metadata": {},
     "output_type": "execute_result"
    }
   ],
   "source": [
    "import spacy\n",
    "from dotenv import load_dotenv\n",
    "\n",
    "# load env variables\n",
    "load_dotenv()"
   ]
  },
  {
   "cell_type": "code",
   "execution_count": 28,
   "metadata": {},
   "outputs": [],
   "source": [
    "# load the saved llm pipeline from disk\n",
    "nlp = spacy.load(\"../en_cooking_ner\")"
   ]
  },
  {
   "cell_type": "code",
   "execution_count": 29,
   "metadata": {},
   "outputs": [
    {
     "name": "stdout",
     "output_type": "stream",
     "text": [
      "(pizza,)\n"
     ]
    }
   ],
   "source": [
    "# use the pipeline for task\n",
    "doc = nlp(\"I know of a great pizza recipe with anchovis.\")\n",
    "\n",
    "print(doc.ents)"
   ]
  },
  {
   "cell_type": "markdown",
   "metadata": {},
   "source": [
    "## Using spacy-llm pipelines directly"
   ]
  },
  {
   "cell_type": "markdown",
   "metadata": {},
   "source": [
    "- now we can use it in prodigy\n",
    "`dotenv run -- prodigy ner.correct ner_cooking ../en_ner_cooking `\n",
    "- NOTE: in the documenentation the recipe used was ner.manual and it was not working"
   ]
  },
  {
   "cell_type": "markdown",
   "metadata": {},
   "source": [
    "## Using spacy-llm recipes for NER"
   ]
  },
  {
   "cell_type": "markdown",
   "metadata": {},
   "source": [
    "- now we can use w/ spacy_llm command inside terminal as following "
   ]
  },
  {
   "cell_type": "markdown",
   "metadata": {},
   "source": [
    "`dotenv run -- prodigy ner.llm.correct annotated-recipes dev/_config/prodigy_config_ner.cfg data/examples.jsonl`"
   ]
  },
  {
   "cell_type": "markdown",
   "metadata": {},
   "source": [
    "- to run the same command from jupyter notebook, see below"
   ]
  },
  {
   "cell_type": "code",
   "execution_count": 36,
   "metadata": {},
   "outputs": [
    {
     "name": "stdout",
     "output_type": "stream",
     "text": [
      "/Users/vamsi_mbmax/Library/CloudStorage/OneDrive-Personal/01_vam_PROJECTS/LEARNING/proj_NLP/dev_proj_NLP/NLP_w_prodigy/notebooks\n"
     ]
    }
   ],
   "source": [
    "!pwd"
   ]
  },
  {
   "cell_type": "code",
   "execution_count": 38,
   "metadata": {},
   "outputs": [
    {
     "data": {
      "text/plain": [
       "True"
      ]
     },
     "execution_count": 38,
     "metadata": {},
     "output_type": "execute_result"
    }
   ],
   "source": [
    "# make sure to load the .env file\n",
    "import os\n",
    "from dotenv import load_dotenv\n",
    "\n",
    "# Specify the path to the .env file\n",
    "dotenv_path = \"/Users/vamsi_mbmax/Library/CloudStorage/OneDrive-Personal/01_vam_PROJECTS/LEARNING/proj_NLP/dev_proj_NLP/NLP_w_prodigy/.env\"\n",
    "\n",
    "# Load the environment variables from the specified .env file\n",
    "load_dotenv(dotenv_path)"
   ]
  },
  {
   "cell_type": "code",
   "execution_count": 40,
   "metadata": {},
   "outputs": [
    {
     "name": "stdout",
     "output_type": "stream",
     "text": [
      "Getting labels from the 'llm' component\n",
      "Using 3 labels: ['DISH', 'EQUIPMENT', 'INGREDIENT']\n",
      "\n",
      "✨  Starting the web server at http://localhost:8080 ...\n",
      "Open the app in your browser and start annotating!\n",
      "\n"
     ]
    }
   ],
   "source": [
    "# Run the Prodigy command inside jupyter notebook\n",
    "os.system(\n",
    "    f\"dotenv --file {dotenv_path} run -- prodigy ner.llm.correct annotated-recipes ../dev/_config/prodigy_config_ner.cfg ../data/examples.jsonl\"\n",
    ")"
   ]
  },
  {
   "cell_type": "markdown",
   "metadata": {},
   "source": [
    "- To let the llm output its results to disk for later use, db-out command or the below (preferred)\n",
    "`dotenv run -- prodigy ner.llm.fetch dev/_config/prodigy_config_ner.cfg data/examples.jsonl data/ner-annotated.jsonl`"
   ]
  }
 ],
 "metadata": {
  "kernelspec": {
   "display_name": ".venv",
   "language": "python",
   "name": "python3"
  },
  "language_info": {
   "codemirror_mode": {
    "name": "ipython",
    "version": 3
   },
   "file_extension": ".py",
   "mimetype": "text/x-python",
   "name": "python",
   "nbconvert_exporter": "python",
   "pygments_lexer": "ipython3",
   "version": "3.12.4"
  }
 },
 "nbformat": 4,
 "nbformat_minor": 2
}

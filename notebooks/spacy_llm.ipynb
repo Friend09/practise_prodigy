{
 "cells": [
  {
   "cell_type": "markdown",
   "metadata": {},
   "source": [
    "# SPACY LLM"
   ]
  },
  {
   "cell_type": "markdown",
   "metadata": {},
   "source": [
    "The following is to practise spacy-llm before using this in Prodigy"
   ]
  },
  {
   "cell_type": "markdown",
   "metadata": {},
   "source": [
    "https://spacy.io/usage/large-language-models"
   ]
  },
  {
   "cell_type": "markdown",
   "metadata": {},
   "source": [
    "## EXAMPLE - WORKING CODE"
   ]
  },
  {
   "cell_type": "markdown",
   "metadata": {},
   "source": [
    "- Make sure org, api key are working first"
   ]
  },
  {
   "cell_type": "code",
   "execution_count": 5,
   "metadata": {},
   "outputs": [
    {
     "name": "stdout",
     "output_type": "stream",
     "text": [
      "defaultdict(<function reduce_shards_to_doc.<locals>.<lambda> at 0x10f867a60>, {'INSULT': 0.0, 'COMPLIMENT': 1.0})\n"
     ]
    }
   ],
   "source": [
    "import spacy\n",
    "\n",
    "nlp = spacy.blank(\"en\")\n",
    "llm = nlp.add_pipe(\"llm_textcat\")\n",
    "llm.add_label(\"INSULT\")\n",
    "llm.add_label(\"COMPLIMENT\")\n",
    "doc = nlp(\"You look gorgeous!\")\n",
    "print(doc.cats)\n",
    "# {\"COMPLIMENT\": 1.0, \"INSULT\": 0.0}"
   ]
  },
  {
   "cell_type": "markdown",
   "metadata": {},
   "source": [
    "## EXAMPLE - USING CONFIG FILE"
   ]
  },
  {
   "cell_type": "code",
   "execution_count": 21,
   "metadata": {},
   "outputs": [
    {
     "name": "stdout",
     "output_type": "stream",
     "text": [
      "defaultdict(<function reduce_shards_to_doc.<locals>.<lambda> at 0x11d937e20>, {'COMPLIMENT': 1.0, 'INSULT': 0.0})\n"
     ]
    }
   ],
   "source": [
    "from spacy_llm.util import assemble\n",
    "\n",
    "nlp = assemble(\"../dev/_config/config_classif.cfg\")\n",
    "doc = nlp(\"You are awesome!\")\n",
    "print(doc.cats)"
   ]
  },
  {
   "cell_type": "markdown",
   "metadata": {},
   "source": [
    "## EXAMPLE: 2 - ADD NER"
   ]
  },
  {
   "cell_type": "code",
   "execution_count": 19,
   "metadata": {},
   "outputs": [],
   "source": [
    "from spacy_llm.util import assemble\n",
    "\n",
    "nlp = assemble(config_path=\"../dev/_config/config_ner.cfg\")\n",
    "doc = nlp(\"Jack and Jill rode up the hill in Les Deux Alpes\")\n",
    "\n",
    "# NOTE: gpt4 worked for NER"
   ]
  },
  {
   "cell_type": "code",
   "execution_count": 20,
   "metadata": {},
   "outputs": [
    {
     "name": "stdout",
     "output_type": "stream",
     "text": [
      "[('Jack', 'PERSON'), ('Jill', 'PERSON'), ('Les Deux Alpes', 'LOCATION')]\n"
     ]
    }
   ],
   "source": [
    "print([(ent.text, ent.label_) for ent in doc.ents])"
   ]
  },
  {
   "cell_type": "markdown",
   "metadata": {},
   "source": [
    "## EXAMPLE: 3 - PYTHON COMPONENT"
   ]
  },
  {
   "cell_type": "markdown",
   "metadata": {},
   "source": [
    "- this did not work for llm, need to check how to use the config with initialize"
   ]
  },
  {
   "cell_type": "code",
   "execution_count": 37,
   "metadata": {},
   "outputs": [
    {
     "name": "stdout",
     "output_type": "stream",
     "text": [
      "[('Jack', 'PERSON'), ('Jill', 'PERSON'), ('Les Deux Alpes', 'LOCATION')]\n"
     ]
    }
   ],
   "source": [
    "nlp = spacy.blank(\"en\")\n",
    "llm_ner = nlp.add_pipe(\"llm_ner\")\n",
    "llm_ner.add_label(\"PERSON\")\n",
    "nlp = assemble(config_path=\"../dev/_config/config_ner.cfg\")\n",
    "nlp.initialize()\n",
    "llm_ner.add_label(\"PLACE\")\n",
    "doc = nlp(\"Jack and Jill rode up the hill in Les Deux Alpes\")\n",
    "print([(ent.text, ent.label_) for ent in doc.ents])"
   ]
  },
  {
   "cell_type": "markdown",
   "metadata": {},
   "source": [
    "## LOGGING"
   ]
  },
  {
   "cell_type": "code",
   "execution_count": 39,
   "metadata": {},
   "outputs": [],
   "source": [
    "import logging\n",
    "import spacy_llm"
   ]
  },
  {
   "cell_type": "code",
   "execution_count": 40,
   "metadata": {},
   "outputs": [],
   "source": [
    "spacy_llm.logger.addHandler(logging.StreamHandler())\n",
    "spacy_llm.logger.setLevel(logging.DEBUG)"
   ]
  },
  {
   "cell_type": "code",
   "execution_count": 49,
   "metadata": {},
   "outputs": [
    {
     "name": "stderr",
     "output_type": "stream",
     "text": [
      "Generated prompt for doc: You look Gorgeous!\n",
      "[\"You are an expert Text Classification system. Your task is to accept Text as input\\nand provide a category for the text based on the predefined labels.\\n\\nClassify the text below to any of the following labels: COMPLIMENT, INSULT\\nThe task is non-exclusive, so you can provide more than one label as long as\\nthey're comma-delimited. For example: Label1, Label2, Label3.\\nDo not put any other text in your answer, only one or more of the provided labels with nothing before or after.\\nIf the text cannot be classified into any of the provided labels, answer `==NONE==`.\\n\\nHere is the text that needs classification\\n\\n\\nText:\\n'''\\nYou look Gorgeous!\\n'''\"]\n",
      "LLM response for doc: You look Gorgeous!\n",
      "['COMPLIMENT']\n"
     ]
    },
    {
     "name": "stdout",
     "output_type": "stream",
     "text": [
      "defaultdict(<function reduce_shards_to_doc.<locals>.<lambda> at 0x11ddaeac0>, {'COMPLIMENT': 1.0, 'INSULT': 0.0})\n"
     ]
    }
   ],
   "source": [
    "from spacy_llm.util import assemble\n",
    "\n",
    "nlp = assemble(\"../dev/_config/config.cfg\")\n",
    "doc = nlp(\"You look Gorgeous!\")\n",
    "\n",
    "print(doc.cats)"
   ]
  },
  {
   "cell_type": "code",
   "execution_count": 50,
   "metadata": {},
   "outputs": [
    {
     "data": {
      "text/plain": [
       "defaultdict(<function spacy_llm.tasks.textcat.util.reduce_shards_to_doc.<locals>.<lambda>()>,\n",
       "            {'COMPLIMENT': 1.0, 'INSULT': 0.0})"
      ]
     },
     "metadata": {},
     "output_type": "display_data"
    }
   ],
   "source": [
    "display(doc.cats)"
   ]
  }
 ],
 "metadata": {
  "kernelspec": {
   "display_name": ".venv",
   "language": "python",
   "name": "python3"
  },
  "language_info": {
   "codemirror_mode": {
    "name": "ipython",
    "version": 3
   },
   "file_extension": ".py",
   "mimetype": "text/x-python",
   "name": "python",
   "nbconvert_exporter": "python",
   "pygments_lexer": "ipython3",
   "version": "3.12.4"
  }
 },
 "nbformat": 4,
 "nbformat_minor": 2
}
